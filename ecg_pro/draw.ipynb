{
 "cells": [
  {
   "cell_type": "code",
   "execution_count": 8,
   "metadata": {},
   "outputs": [
    {
     "data": {
      "image/png": "[encoded data removed]",
      "text/plain": [
       "<Figure size 432x288 with 1 Axes>"
      ]
     },
     "metadata": {
      "needs_background": "light"
     },
     "output_type": "display_data"
    }
   ],
   "source": [
    "import csv\n",
    "import math\n",
    "import pandas as pd\n",
    "import numpy as np\n",
    "import matplotlib.pyplot as plt\n",
    "%matplotlib inline                                                                             \n",
    "# dataset = pd.read_csv(\"hart.csv\")\n",
    "# dataset = pd.read_csv(\"ekg.csv\")\n",
    "dataset = pd.read_csv(\"my.csv\")\n",
    "# import json\n",
    "\n",
    "# f = open('final.txt')\n",
    "# # print(json.loads(f.read())[0])\n",
    "# dataset = json.loads(f.read())\n",
    "# f.close()\n",
    "\n",
    "y = [e for e in dataset['hart']]\n",
    "\n",
    "N = len(y)\n",
    "Fs = 1000\n",
    "T = 1.0 / Fs\n",
    "\n",
    "x = np.linspace(0.0, N*T, N)\n",
    "\n",
    "fig_td = plt.figure()\n",
    "fig_td.canvas.set_window_title('ECG')\n",
    "ax1 = fig_td.add_subplot(212)\n",
    "ax1.set_title('image')\n",
    "\n",
    "ax1.plot(x,y, color='r', linewidth=0.7)\n",
    "plt.show()"
   ]
  },
  {
   "cell_type": "code",
   "execution_count": null,
   "metadata": {},
   "outputs": [],
   "source": []
  },
  {
   "cell_type": "code",
   "execution_count": null,
   "metadata": {},
   "outputs": [],
   "source": []
  }
 ],
 "metadata": {
  "kernelspec": {
   "display_name": "Python 3",
   "language": "python",
   "name": "python3"
  },
  "language_info": {
   "codemirror_mode": {
    "name": "ipython",
    "version": 3
   },
   "file_extension": ".py",
   "mimetype": "text/x-python",
   "name": "python",
   "nbconvert_exporter": "python",
   "pygments_lexer": "ipython3",
   "version": "3.6.5"
  }
 },
 "nbformat": 4,
 "nbformat_minor": 2
}
